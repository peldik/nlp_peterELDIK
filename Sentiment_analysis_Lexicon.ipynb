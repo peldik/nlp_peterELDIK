{
  "nbformat": 4,
  "nbformat_minor": 0,
  "metadata": {
    "colab": {
      "provenance": []
    },
    "kernelspec": {
      "name": "python3",
      "display_name": "Python 3"
    },
    "language_info": {
      "name": "python"
    }
  },
  "cells": [
    {
      "cell_type": "code",
      "source": [
        "import pandas as pd\n",
        "import nltk\n",
        "import re\n",
        "from nltk.sentiment import SentimentIntensityAnalyzer\n",
        "nltk.download('vader_lexicon')"
      ],
      "metadata": {
        "colab": {
          "base_uri": "https://localhost:8080/"
        },
        "id": "9tWyeHYfnMz9",
        "outputId": "efc1a5ad-bbd1-49fd-9f0c-43607798e88d"
      },
      "execution_count": 1,
      "outputs": [
        {
          "output_type": "stream",
          "name": "stderr",
          "text": [
            "[nltk_data] Downloading package vader_lexicon to /root/nltk_data...\n"
          ]
        },
        {
          "output_type": "execute_result",
          "data": {
            "text/plain": [
              "True"
            ]
          },
          "metadata": {},
          "execution_count": 1
        }
      ]
    },
    {
      "cell_type": "code",
      "source": [
        "tweetsdf = pd.read_csv(\"tweets-data (1).csv\")"
      ],
      "metadata": {
        "id": "IvUMM2QJnVgc"
      },
      "execution_count": 4,
      "outputs": []
    },
    {
      "cell_type": "code",
      "source": [
        "sampledf = tweetsdf.sample(n=500, random_state=42).copy()"
      ],
      "metadata": {
        "id": "tnq7Fe9Dna9q"
      },
      "execution_count": 5,
      "outputs": []
    },
    {
      "cell_type": "code",
      "source": [
        "\n",
        "def clean(text):\n",
        "    text = re.sub(r'http\\S+', '', text)\n",
        "    text = re.sub(r'@\\w+', '', text)\n",
        "    text = re.sub(r'#\\w+', '', text)\n",
        "    text = re.sub(r'[^A-Za-z0-9\\s]', '', text)\n",
        "    text = text.lower().strip()\n",
        "    return text"
      ],
      "metadata": {
        "id": "qwZuce9PntTx"
      },
      "execution_count": 6,
      "outputs": []
    },
    {
      "cell_type": "code",
      "source": [
        "\n",
        "sampledf['cleaned'] = sampledf['Tweets'].astype(str).apply(clean)"
      ],
      "metadata": {
        "id": "VvLUl79Vn_X3"
      },
      "execution_count": 7,
      "outputs": []
    },
    {
      "cell_type": "code",
      "source": [
        "sia = SentimentIntensityAnalyzer()"
      ],
      "metadata": {
        "id": "47RLFeuFoGhX"
      },
      "execution_count": 9,
      "outputs": []
    },
    {
      "cell_type": "code",
      "source": [
        "\n",
        "def sentiment(text):\n",
        "    score = sia.polarity_scores(text)['compound']\n",
        "    if score >= 0.05:\n",
        "        label = 'positive'\n",
        "    elif score <= -0.05:\n",
        "        label = 'negative'\n",
        "    else:\n",
        "        label = 'neutral'\n",
        "    return pd.Series([label, score])"
      ],
      "metadata": {
        "id": "yMmj6-QWoTs1"
      },
      "execution_count": 10,
      "outputs": []
    },
    {
      "cell_type": "code",
      "execution_count": 14,
      "metadata": {
        "colab": {
          "base_uri": "https://localhost:8080/"
        },
        "id": "waqQRxPJm3kr",
        "outputId": "c878ff05-5436-4dca-bd6a-9e4cec0d7df8"
      },
      "outputs": [
        {
          "output_type": "stream",
          "name": "stdout",
          "text": [
            "                                                 Tweets  \\\n",
            "2899  Le #DessinDePresse de Sanaga : ls sont morts c...   \n",
            "594   #Russia #Wagner #RussiaCivilWar https://t.co/P...   \n",
            "2870  Exclusive content -https://t.co/oEiSIIB2Z1\\n.\\...   \n",
            "52    Auch heute geht die politische Nachricht des T...   \n",
            "1391  @crazyclipsonly Same type that would take a ho...   \n",
            "\n",
            "                                                cleaned sentimentLabel  \\\n",
            "2899  le  de sanaga  ls sont morts comme ils ont vcu...        neutral   \n",
            "594                                                            neutral   \n",
            "2870                                  exclusive content       positive   \n",
            "52    auch heute geht die politische nachricht des t...       negative   \n",
            "1391  same type that would take a homemade playstati...        neutral   \n",
            "\n",
            "      sentimentScore  \n",
            "2899          0.0000  \n",
            "594           0.0000  \n",
            "2870          0.1280  \n",
            "52           -0.5994  \n",
            "1391          0.0000  \n"
          ]
        }
      ],
      "source": [
        "sampledf[['sentimentLabel', 'sentimentScore']] = sampledf['cleaned'].apply(sentiment)\n",
        "\n",
        "\n",
        "print(sampledf[['Tweets', 'cleaned', 'sentimentLabel', 'sentimentScore']].head())\n"
      ]
    }
  ]
}