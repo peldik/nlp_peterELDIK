{
  "nbformat": 4,
  "nbformat_minor": 0,
  "metadata": {
    "colab": {
      "provenance": []
    },
    "kernelspec": {
      "name": "python3",
      "display_name": "Python 3"
    },
    "language_info": {
      "name": "python"
    }
  },
  "cells": [
    {
      "cell_type": "code",
      "source": [
        "pip install transformers"
      ],
      "metadata": {
        "colab": {
          "base_uri": "https://localhost:8080/"
        },
        "id": "-hW28pBBCvSJ",
        "outputId": "7da5b521-6399-48a0-a71f-264b25bb054a"
      },
      "execution_count": 8,
      "outputs": [
        {
          "output_type": "stream",
          "name": "stdout",
          "text": [
            "Requirement already satisfied: transformers in /usr/local/lib/python3.11/dist-packages (4.52.4)\n",
            "Requirement already satisfied: filelock in /usr/local/lib/python3.11/dist-packages (from transformers) (3.18.0)\n",
            "Requirement already satisfied: huggingface-hub<1.0,>=0.30.0 in /usr/local/lib/python3.11/dist-packages (from transformers) (0.33.0)\n",
            "Requirement already satisfied: numpy>=1.17 in /usr/local/lib/python3.11/dist-packages (from transformers) (2.0.2)\n",
            "Requirement already satisfied: packaging>=20.0 in /usr/local/lib/python3.11/dist-packages (from transformers) (24.2)\n",
            "Requirement already satisfied: pyyaml>=5.1 in /usr/local/lib/python3.11/dist-packages (from transformers) (6.0.2)\n",
            "Requirement already satisfied: regex!=2019.12.17 in /usr/local/lib/python3.11/dist-packages (from transformers) (2024.11.6)\n",
            "Requirement already satisfied: requests in /usr/local/lib/python3.11/dist-packages (from transformers) (2.32.3)\n",
            "Requirement already satisfied: tokenizers<0.22,>=0.21 in /usr/local/lib/python3.11/dist-packages (from transformers) (0.21.2)\n",
            "Requirement already satisfied: safetensors>=0.4.3 in /usr/local/lib/python3.11/dist-packages (from transformers) (0.5.3)\n",
            "Requirement already satisfied: tqdm>=4.27 in /usr/local/lib/python3.11/dist-packages (from transformers) (4.67.1)\n",
            "Requirement already satisfied: fsspec>=2023.5.0 in /usr/local/lib/python3.11/dist-packages (from huggingface-hub<1.0,>=0.30.0->transformers) (2025.3.2)\n",
            "Requirement already satisfied: typing-extensions>=3.7.4.3 in /usr/local/lib/python3.11/dist-packages (from huggingface-hub<1.0,>=0.30.0->transformers) (4.14.0)\n",
            "Requirement already satisfied: hf-xet<2.0.0,>=1.1.2 in /usr/local/lib/python3.11/dist-packages (from huggingface-hub<1.0,>=0.30.0->transformers) (1.1.5)\n",
            "Requirement already satisfied: charset-normalizer<4,>=2 in /usr/local/lib/python3.11/dist-packages (from requests->transformers) (3.4.2)\n",
            "Requirement already satisfied: idna<4,>=2.5 in /usr/local/lib/python3.11/dist-packages (from requests->transformers) (3.10)\n",
            "Requirement already satisfied: urllib3<3,>=1.21.1 in /usr/local/lib/python3.11/dist-packages (from requests->transformers) (2.4.0)\n",
            "Requirement already satisfied: certifi>=2017.4.17 in /usr/local/lib/python3.11/dist-packages (from requests->transformers) (2025.6.15)\n"
          ]
        }
      ]
    },
    {
      "cell_type": "code",
      "source": [
        "import pandas as pd\n",
        "from transformers import pipeline"
      ],
      "metadata": {
        "id": "bEqQJOPbD20w"
      },
      "execution_count": 10,
      "outputs": []
    },
    {
      "cell_type": "code",
      "source": [
        "\n",
        "df = pd.read_csv(\"spam.csv\", encoding='latin-1')"
      ],
      "metadata": {
        "id": "BaxhogXUD4sD"
      },
      "execution_count": 11,
      "outputs": []
    },
    {
      "cell_type": "code",
      "source": [
        "df = df[['text', 'target']]"
      ],
      "metadata": {
        "id": "FW3hg-zOD8Yw"
      },
      "execution_count": 12,
      "outputs": []
    },
    {
      "cell_type": "code",
      "source": [
        "sampledf = df.sample(n=10, random_state=42).copy()"
      ],
      "metadata": {
        "id": "RpAFgRP-EAcq"
      },
      "execution_count": 13,
      "outputs": []
    },
    {
      "cell_type": "code",
      "source": [
        "classifier = pipeline(\"zero-shot-classification\", model=\"facebook/bart-large-mnli\")"
      ],
      "metadata": {
        "colab": {
          "base_uri": "https://localhost:8080/"
        },
        "id": "cbEDAYE6EFMq",
        "outputId": "79efc4de-3bb6-42da-877f-156e1a8dd1b6"
      },
      "execution_count": 14,
      "outputs": [
        {
          "output_type": "stream",
          "name": "stderr",
          "text": [
            "Device set to use cpu\n"
          ]
        }
      ]
    },
    {
      "cell_type": "code",
      "source": [
        "labels = [\"spam\", \"ham\"]"
      ],
      "metadata": {
        "id": "4ywKQc9hEJyG"
      },
      "execution_count": 15,
      "outputs": []
    },
    {
      "cell_type": "code",
      "source": [
        "results = []\n",
        "for text in sampledf[\"text\"]:\n",
        "    output = classifier(text, candidate_labels=labels)\n",
        "    predictedlabel = output['labels'][0]\n",
        "    confidence = output['scores'][0]\n",
        "    results.append((predictedlabel, confidence))\n"
      ],
      "metadata": {
        "id": "mzvlFVAREft3"
      },
      "execution_count": 16,
      "outputs": []
    },
    {
      "cell_type": "code",
      "source": [
        "\n",
        "sampledf['predicted_label'] = [r[0] for r in results]\n",
        "sampledf['confidence_score'] = [r[1] for r in results]\n",
        "\n",
        "\n",
        "print(sampledf[['text', 'target', 'predicted_label', 'confidence_score']])\n"
      ],
      "metadata": {
        "colab": {
          "base_uri": "https://localhost:8080/"
        },
        "id": "HAoL2es8DIsj",
        "outputId": "e45c6b62-675b-43bb-b22f-85fbfa91f29f"
      },
      "execution_count": 17,
      "outputs": [
        {
          "output_type": "stream",
          "name": "stdout",
          "text": [
            "                                                   text target  \\\n",
            "3245  Funny fact Nobody teaches volcanoes 2 erupt, t...    ham   \n",
            "944   I sent my scores to sophas and i had to do sec...    ham   \n",
            "1044  We know someone who you know that fancies you....   spam   \n",
            "2484  Only if you promise your getting out as SOON a...    ham   \n",
            "812   Congratulations ur awarded either Ã¥Â£500 of C...   spam   \n",
            "2973         I'll text carlos and let you know, hang on    ham   \n",
            "2991          K.i did't see you.:)k:)where are you now?    ham   \n",
            "2942             No message..no responce..what happend?    ham   \n",
            "230   Get down in gandhipuram and walk to cross cut ...    ham   \n",
            "1181                         You flippin your shit yet?    ham   \n",
            "\n",
            "     predicted_label  confidence_score  \n",
            "3245             ham          0.529921  \n",
            "944              ham          0.779058  \n",
            "1044            spam          0.613768  \n",
            "2484             ham          0.573997  \n",
            "812              ham          0.748572  \n",
            "2973             ham          0.788339  \n",
            "2991             ham          0.631141  \n",
            "2942             ham          0.652688  \n",
            "230              ham          0.762797  \n",
            "1181             ham          0.505973  \n"
          ]
        }
      ]
    }
  ]
}